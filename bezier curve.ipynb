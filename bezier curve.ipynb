{
 "cells": [
  {
   "cell_type": "markdown",
   "metadata": {},
   "source": [
    "A graph has edges as pairs of 2d points. The edges have no \"order\" but for my bezier curve implementation idea I want to know where the \"start(s)\" and \"end(s)\" are to create every single \"path\" of edges we want to draw a curve on.\n",
    "\n",
    "Of course gonna start with only 1 path."
   ]
  },
  {
   "cell_type": "markdown",
   "metadata": {},
   "source": [
    "To properly set up paths, I will want functions to create maps of each point going out, and each point coming in. So the starting edge will have nothing coming in, and the ending edge will have nothing going out"
   ]
  },
  {
   "cell_type": "markdown",
   "metadata": {},
   "source": [
    "[(a, b), (b, c), (c, d)] <- wont move, base \"frame\"\n",
    "[(a', b'), (b', c')] <- a' is a point that moves along the (a, b) edge, b' prime over (b, c), and c' over (c,d)\n",
    "                        also note that they start at a, b, and cs initial positions\n",
    "[(a'', b'')] <- a'' moves along the (a', b') edge, and b'' moves along (b', c') edge\n",
    "final one is a single point a''' which is also the turtle that draws along the (a'', b'') edge"
   ]
  },
  {
   "cell_type": "markdown",
   "metadata": {},
   "source": [
    "I want to create \"path\" classes which make it straightforward to move along the contained edges"
   ]
  },
  {
   "cell_type": "code",
   "execution_count": 1,
   "metadata": {},
   "outputs": [],
   "source": [
    "import math\n",
    "\n",
    "import matplotlib.pyplot as plt"
   ]
  },
  {
   "cell_type": "code",
   "execution_count": 2,
   "metadata": {},
   "outputs": [],
   "source": [
    "class Point:\n",
    "    def __init__(self, x, y):\n",
    "        self.x = x\n",
    "        self.y = y\n",
    "        \n",
    "    def __repr__(self):\n",
    "        return f'Point ({self.x}, {self.y})'"
   ]
  },
  {
   "cell_type": "code",
   "execution_count": 3,
   "metadata": {},
   "outputs": [],
   "source": [
    "# Used to calculate the length of an edge\n",
    "def euclidean_distance(point1, point2):\n",
    "    return math.sqrt((point2.x - point1.x)**2  + (point2.y - point1.y)**2)"
   ]
  },
  {
   "cell_type": "code",
   "execution_count": 4,
   "metadata": {},
   "outputs": [],
   "source": [
    "class Edge:\n",
    "    def __init__(self, start_point, end_point):\n",
    "        self.start = start_point\n",
    "        self.end = end_point\n",
    "        \n",
    "    def __repr__(self):\n",
    "        return f'Edge [{self.start}, {self.end}]'\n",
    "        \n",
    "    def point_at(self, t):\n",
    "        # This is the direction from the start to the end points\n",
    "        angle_of_approach = math.atan2(self.end.y - self.start.y, self.end.x - self.start.x)\n",
    "        \n",
    "        # Line lenght is important so we know how far towards the end to move\n",
    "        line_length = euclidean_distance(self.start, self.end)\n",
    "        \n",
    "        new_x = math.cos(angle_of_approach) * line_length * t\n",
    "        new_y = math.sin(angle_of_approach) * line_length * t\n",
    "        \n",
    "        # Create a new point which is the original plus the offset along the angle_of_approach\n",
    "        return Point(self.start.x + new_x, self.start.y + new_y)"
   ]
  },
  {
   "cell_type": "code",
   "execution_count": 5,
   "metadata": {},
   "outputs": [],
   "source": [
    "def drawn_point(edges, t):\n",
    "    # The base case is when we are on the smallest edge we return a single point to \"draw\"\n",
    "    if len(edges) == 1:\n",
    "        return edges[0].point_at(t)\n",
    "    \n",
    "    # Create a new list of new edges by finding the point_at(t) for each edge pair\n",
    "    # Then recursively call this function until it gets to the end\n",
    "    return drawn_point([Edge(e1.point_at(t), e2.point_at(t)) for (e1, e2) in zip(edges, edges[1:])], t)"
   ]
  },
  {
   "cell_type": "code",
   "execution_count": 6,
   "metadata": {},
   "outputs": [],
   "source": [
    "def get_bezier_curve(pairs):\n",
    "    edges = [Edge(Point(*x), Point(*y)) for (x, y) in pairs]\n",
    "    xs = [drawn_point(edges, t/100) for t in range(0, 100)]\n",
    "    return [p.x for p in xs], [p.y for p in xs]"
   ]
  },
  {
   "cell_type": "code",
   "execution_count": 7,
   "metadata": {
    "scrolled": true
   },
   "outputs": [],
   "source": [
    "# I wrote it as a list of points so its easy to both get the curve and plot the original\n",
    "points = [(3, 0), (2, 10),  (10, 10), (30, 0), (35, 15)]\n",
    "\n",
    "xs, ys = get_bezier_curve(zip(points, points[1:]))"
   ]
  },
  {
   "cell_type": "code",
   "execution_count": 8,
   "metadata": {},
   "outputs": [
    {
     "data": {
      "text/plain": [
       "[<matplotlib.lines.Line2D at 0x7f51a5f8a310>]"
      ]
     },
     "execution_count": 8,
     "metadata": {},
     "output_type": "execute_result"
    },
    {
     "data": {
      "image/png": "[encoded data removed]",
      "text/plain": [
       "<Figure size 432x288 with 1 Axes>"
      ]
     },
     "metadata": {
      "needs_background": "light"
     },
     "output_type": "display_data"
    }
   ],
   "source": [
    "# Plot both original and bezier curve\n",
    "\n",
    "plt.plot(xs, ys)\n",
    "# Get only the \"x\" and \"y\" from the points (its what matplotlib wants)\n",
    "plt.plot([p[0] for p in points], [p[1] for p in points])"
   ]
  },
  {
   "cell_type": "code",
   "execution_count": null,
   "metadata": {},
   "outputs": [],
   "source": []
  }
 ],
 "metadata": {
  "kernelspec": {
   "display_name": "Python 3",
   "language": "python",
   "name": "python3"
  },
  "language_info": {
   "codemirror_mode": {
    "name": "ipython",
    "version": 3
   },
   "file_extension": ".py",
   "mimetype": "text/x-python",
   "name": "python",
   "nbconvert_exporter": "python",
   "pygments_lexer": "ipython3",
   "version": "3.8.2"
  }
 },
 "nbformat": 4,
 "nbformat_minor": 4
}
